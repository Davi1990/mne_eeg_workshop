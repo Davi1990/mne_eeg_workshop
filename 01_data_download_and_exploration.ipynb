{
 "cells": [
  {
   "cell_type": "code",
   "execution_count": 1,
   "id": "73c615de",
   "metadata": {},
   "outputs": [
    {
     "name": "stdout",
     "output_type": "stream",
     "text": [
      "Automatically created module for IPython interactive environment\n"
     ]
    }
   ],
   "source": [
    "import numpy as np\n",
    "import matplotlib.pyplot as plt\n",
    "import mne\n",
    "import os \n",
    "from mne.datasets.limo import load_data\n",
    "from mne.stats import linear_regression\n",
    "from mne.viz import plot_events, plot_compare_evokeds\n",
    "from mne import combine_evoked\n",
    "from mne.minimum_norm import apply_inverse, make_inverse_operator, get_point_spread, make_inverse_resolution_matrix\n",
    "\n",
    "import warnings\n",
    "warnings.filterwarnings('ignore')\n",
    "\n",
    "print(__doc__)"
   ]
  },
  {
   "cell_type": "markdown",
   "id": "652ff3c1",
   "metadata": {},
   "source": [
    "## About the data\n",
    "\n",
    "In the original LIMO experiment, participants performed a two-alternative forced choice task, discriminating between two face stimuli. The same two faces were used during the whole experiment, with varying levels of noise added, making the faces more or less discernible to the observer.\n",
    "\n",
    "The presented faces varied across a noise-signal (or phase-coherence) continuum spanning from 0 to 85% in increasing steps of 5%. In other words, faces with high phase-coherence (e.g., 85%) were easy to identify, while faces with low phase-coherence (e.g., 5%) were hard to identify and by extension very hard to discriminate.\n",
    "\n",
    "\n",
    "Reference: https://www.ncbi.nlm.nih.gov/pmc/articles/PMC3153743/"
   ]
  },
  {
   "cell_type": "code",
   "execution_count": null,
   "id": "3d6ed4fe",
   "metadata": {},
   "outputs": [],
   "source": []
  },
  {
   "cell_type": "markdown",
   "id": "614ceb40",
   "metadata": {},
   "source": [
    "## Load the data\n",
    "\n",
    "Fetches epoched data files the LIMO dataset 1. If the LIMO files are not found on disk, the fetcher mne.datasets.limo.load_data() will automatically download the files from a remote repository."
   ]
  },
  {
   "cell_type": "code",
   "execution_count": 3,
   "id": "64636781",
   "metadata": {},
   "outputs": [
    {
     "name": "stdout",
     "output_type": "stream",
     "text": [
      "Adding metadata with 2 columns\n",
      "Replacing existing metadata with 2 columns\n",
      "1055 matching events found\n",
      "No baseline correction applied\n",
      "0 projection items activated\n",
      "0 bad epochs dropped\n",
      "Adding metadata with 2 columns\n",
      "Replacing existing metadata with 2 columns\n",
      "1052 matching events found\n",
      "No baseline correction applied\n",
      "0 projection items activated\n",
      "0 bad epochs dropped\n",
      "Adding metadata with 2 columns\n",
      "Replacing existing metadata with 2 columns\n",
      "1072 matching events found\n",
      "No baseline correction applied\n",
      "0 projection items activated\n",
      "0 bad epochs dropped\n",
      "Adding metadata with 2 columns\n",
      "Replacing existing metadata with 2 columns\n",
      "1050 matching events found\n",
      "No baseline correction applied\n",
      "0 projection items activated\n",
      "0 bad epochs dropped\n",
      "Adding metadata with 2 columns\n",
      "Replacing existing metadata with 2 columns\n",
      "1118 matching events found\n",
      "No baseline correction applied\n",
      "0 projection items activated\n",
      "0 bad epochs dropped\n",
      "Adding metadata with 2 columns\n",
      "Replacing existing metadata with 2 columns\n",
      "1108 matching events found\n",
      "No baseline correction applied\n",
      "0 projection items activated\n",
      "0 bad epochs dropped\n",
      "Adding metadata with 2 columns\n",
      "Replacing existing metadata with 2 columns\n",
      "1060 matching events found\n",
      "No baseline correction applied\n",
      "0 projection items activated\n",
      "0 bad epochs dropped\n",
      "Adding metadata with 2 columns\n",
      "Replacing existing metadata with 2 columns\n",
      "1030 matching events found\n",
      "No baseline correction applied\n",
      "0 projection items activated\n",
      "0 bad epochs dropped\n",
      "Adding metadata with 2 columns\n",
      "Replacing existing metadata with 2 columns\n",
      "1059 matching events found\n",
      "No baseline correction applied\n",
      "0 projection items activated\n",
      "0 bad epochs dropped\n",
      "Adding metadata with 2 columns\n",
      "Replacing existing metadata with 2 columns\n",
      "1038 matching events found\n",
      "No baseline correction applied\n",
      "0 projection items activated\n",
      "0 bad epochs dropped\n",
      "Adding metadata with 2 columns\n",
      "Replacing existing metadata with 2 columns\n",
      "1029 matching events found\n",
      "No baseline correction applied\n",
      "0 projection items activated\n",
      "0 bad epochs dropped\n",
      "Adding metadata with 2 columns\n",
      "Replacing existing metadata with 2 columns\n",
      "943 matching events found\n",
      "No baseline correction applied\n",
      "0 projection items activated\n",
      "0 bad epochs dropped\n",
      "Adding metadata with 2 columns\n",
      "Replacing existing metadata with 2 columns\n",
      "1108 matching events found\n",
      "No baseline correction applied\n",
      "0 projection items activated\n",
      "0 bad epochs dropped\n",
      "Adding metadata with 2 columns\n",
      "Replacing existing metadata with 2 columns\n",
      "998 matching events found\n",
      "No baseline correction applied\n",
      "0 projection items activated\n",
      "0 bad epochs dropped\n",
      "Adding metadata with 2 columns\n",
      "Replacing existing metadata with 2 columns\n",
      "1076 matching events found\n",
      "No baseline correction applied\n",
      "0 projection items activated\n",
      "0 bad epochs dropped\n",
      "Adding metadata with 2 columns\n",
      "Replacing existing metadata with 2 columns\n",
      "1061 matching events found\n",
      "No baseline correction applied\n",
      "0 projection items activated\n",
      "0 bad epochs dropped\n",
      "Adding metadata with 2 columns\n",
      "Replacing existing metadata with 2 columns\n",
      "1098 matching events found\n",
      "No baseline correction applied\n",
      "0 projection items activated\n",
      "0 bad epochs dropped\n",
      "Adding metadata with 2 columns\n",
      "Replacing existing metadata with 2 columns\n",
      "1103 matching events found\n",
      "No baseline correction applied\n",
      "0 projection items activated\n",
      "0 bad epochs dropped\n"
     ]
    }
   ],
   "source": [
    "limo_epochs = []\n",
    "for subj in range(1,19):\n",
    "    limo_epochs.append(load_data(subject=subj))"
   ]
  },
  {
   "cell_type": "markdown",
   "id": "a24b9258",
   "metadata": {},
   "source": [
    "Note that the result of the loading process is an mne.EpochsArray containing the data ready to interface with MNE-Python."
   ]
  },
  {
   "cell_type": "code",
   "execution_count": 6,
   "id": "acbb90b5",
   "metadata": {},
   "outputs": [
    {
     "name": "stdout",
     "output_type": "stream",
     "text": [
      "<EpochsArray |  1055 events (all good), -0.299944 - 0.499907 sec, baseline off, ~213.7 MB, data loaded, with metadata,\n",
      " 'Face/A': 524\n",
      " 'Face/B': 531>\n"
     ]
    }
   ],
   "source": [
    "print(limo_epochs[0])"
   ]
  },
  {
   "cell_type": "markdown",
   "id": "a4cb3f8c",
   "metadata": {},
   "source": [
    "## Visualize events\n",
    "We can visualise the distribution of the face events contained in the limo_epochs structure. Events should appear clearly grouped, as the epochs are ordered by condition."
   ]
  },
  {
   "cell_type": "code",
   "execution_count": 7,
   "id": "485a00c9",
   "metadata": {},
   "outputs": [
    {
     "data": {
      "image/png": "[encoded data removed]",
      "text/plain": [
       "<Figure size 432x288 with 1 Axes>"
      ]
     },
     "metadata": {
      "needs_background": "light"
     },
     "output_type": "display_data"
    },
    {
     "data": {
      "text/plain": [
       "Text(0.5, 0.98, 'Distribution of events in LIMO epochs')"
      ]
     },
     "execution_count": 7,
     "metadata": {},
     "output_type": "execute_result"
    }
   ],
   "source": [
    "sbj2use = 0\n",
    "\n",
    "fig = plot_events(limo_epochs[sbj2use].events, event_id=limo_epochs[sbj2use].event_id)\n",
    "fig.suptitle(\"Distribution of events in LIMO epochs\")"
   ]
  },
  {
   "cell_type": "markdown",
   "id": "91821428",
   "metadata": {},
   "source": [
    "As it can be seen above, conditions are coded as Face/A and Face/B. Information about the phase-coherence of the presented faces is stored in the epochs metadata. These information can be easily accessed by calling limo_epochs.metadata. As shown below, the epochs metadata also contains information about the presented faces for convenience."
   ]
  },
  {
   "cell_type": "code",
   "execution_count": 8,
   "id": "2dc6b633",
   "metadata": {},
   "outputs": [
    {
     "name": "stdout",
     "output_type": "stream",
     "text": [
      "  face  phase-coherence\n",
      "0    A         0.491210\n",
      "1    A        -1.235572\n",
      "2    A        -1.043707\n",
      "3    A         1.642398\n",
      "4    A        -0.659978\n"
     ]
    }
   ],
   "source": [
    "print(limo_epochs[sbj2use].metadata.head())\n"
   ]
  },
  {
   "cell_type": "markdown",
   "id": "c09be7dd",
   "metadata": {},
   "source": [
    "Now let’s take a closer look at the information in the epochs metadata."
   ]
  },
  {
   "cell_type": "code",
   "execution_count": 10,
   "id": "4b32db4d",
   "metadata": {},
   "outputs": [
    {
     "name": "stdout",
     "output_type": "stream",
     "text": [
      "        face  phase-coherence\n",
      "count   1055         1055.000\n",
      "unique     2              NaN\n",
      "top        B              NaN\n",
      "freq     531              NaN\n",
      "mean     NaN           -0.000\n",
      "std      NaN            1.000\n",
      "min      NaN           -1.619\n",
      "25%      NaN           -0.852\n",
      "50%      NaN           -0.084\n",
      "75%      NaN            0.875\n",
      "max      NaN            1.642\n"
     ]
    }
   ],
   "source": [
    "# We want include all columns in the summary table\n",
    "epochs_summary = limo_epochs[sbj2use].metadata.describe(include='all').round(3)\n",
    "print(epochs_summary)"
   ]
  },
  {
   "cell_type": "markdown",
   "id": "26978f3e",
   "metadata": {},
   "source": [
    "The first column of the summary table above provides more or less the same information as the print(limo_epochs) command we ran before. There are 1055 faces (i.e., epochs), subdivided in 2 conditions (i.e., Face A and Face B) and, for this particular subject, there are more epochs for the condition Face B.\n",
    "\n",
    "In addition, we can see in the second column that the values for the phase-coherence variable range from -1.619 to 1.642. This is because the phase-coherence values are provided as a z-scored variable in the LIMO dataset. Note that they have a mean of zero and a standard deviation of 1."
   ]
  },
  {
   "cell_type": "code",
   "execution_count": null,
   "id": "9faa2ef8",
   "metadata": {},
   "outputs": [],
   "source": []
  }
 ],
 "metadata": {
  "kernelspec": {
   "display_name": "Python 3 (ipykernel)",
   "language": "python",
   "name": "python3"
  },
  "language_info": {
   "codemirror_mode": {
    "name": "ipython",
    "version": 3
   },
   "file_extension": ".py",
   "mimetype": "text/x-python",
   "name": "python",
   "nbconvert_exporter": "python",
   "pygments_lexer": "ipython3",
   "version": "3.9.10"
  }
 },
 "nbformat": 4,
 "nbformat_minor": 5
}

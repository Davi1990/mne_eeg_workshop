{
 "cells": [
  {
   "cell_type": "markdown",
   "metadata": {
    "id": "HF9ke8N6qxgD"
   },
   "source": [
    "# Working with MNE and EEG-BIDS Part 1\n",
    "\n",
    "In this notebook we will go over:\n",
    "\n",
    "\n",
    "*   Data exploration\n",
    "*   Cropping and filtering\n",
    "*   EEG-BIDS\n",
    "\n"
   ]
  },
  {
   "cell_type": "markdown",
   "metadata": {
    "id": "OHie4ZqejyGN"
   },
   "source": [
    "# Import packages"
   ]
  },
  {
   "cell_type": "code",
   "execution_count": 1,
   "metadata": {
    "id": "Y9rNv0RakFHe"
   },
   "outputs": [],
   "source": [
    "import matplotlib\n",
    "import matplotlib.pyplot as plt\n",
    "import pathlib\n",
    "import mne\n",
    "import mne_bids"
   ]
  },
  {
   "cell_type": "markdown",
   "metadata": {
    "id": "9ZW_E8IOQQOE"
   },
   "source": [
    "Ensure Matplotlib uses the `Qt5Agg` backend, which is the best choice for MNE-Python's interactive plotting functions. "
   ]
  },
  {
   "cell_type": "code",
   "execution_count": 2,
   "metadata": {
    "id": "DVKSo1FLQQOE"
   },
   "outputs": [],
   "source": [
    "matplotlib.use('Qt5Agg')"
   ]
  },
  {
   "cell_type": "markdown",
   "metadata": {
    "id": "fbM3Gb6omjfp"
   },
   "source": [
    "# Data Exploration"
   ]
  },
  {
   "cell_type": "markdown",
   "metadata": {
    "id": "I7oFpXuMkKRH"
   },
   "source": [
    "## Load the dataset"
   ]
  },
  {
   "cell_type": "markdown",
   "metadata": {
    "id": "DmyotsBykoPe"
   },
   "source": [
    "In this tutorial, we will work with the EEG data in the MNE [sample dataset](https://mne.tools/dev/overview/datasets_index.html#contents-of-the-data-set)"
   ]
  },
  {
   "cell_type": "markdown",
   "metadata": {},
   "source": [
    "The full dataset may take too long to download. For this tutorial, download the raw file from [this link] (https://drive.google.com/file/d/1-RSyaXp2Chx0zLuaAnlgK8o1VMo3enx8/view?usp=share_link) to your local directory."
   ]
  },
  {
   "cell_type": "markdown",
   "metadata": {
    "id": "Ki63nSIAl6fK"
   },
   "source": [
    "## Read the raw data"
   ]
  },
  {
   "cell_type": "code",
   "execution_count": 51,
   "metadata": {
    "colab": {
     "base_uri": "https://localhost:8080/",
     "height": 0
    },
    "id": "qjhSPSgQmIqs",
    "outputId": "01d1fdd6-2a3d-4c51-96a4-19b8f852d776"
   },
   "outputs": [
    {
     "name": "stdout",
     "output_type": "stream",
     "text": [
      "Opening raw data file sample_audvis_raw.fif...\n",
      "    Read a total of 3 projection items:\n",
      "        PCA-v1 (1 x 102)  idle\n",
      "        PCA-v2 (1 x 102)  idle\n",
      "        PCA-v3 (1 x 102)  idle\n",
      "    Range : 25800 ... 192599 =     42.956 ...   320.670 secs\n",
      "Ready.\n",
      "Reading 0 ... 166799  =      0.000 ...   277.714 secs...\n"
     ]
    },
    {
     "data": {
      "text/html": [
       "<table class=\"table table-hover table-striped table-sm table-responsive small\">\n",
       "    <tr>\n",
       "        <th>Measurement date</th>\n",
       "        \n",
       "        <td>December 03, 2002  19:01:10 GMT</td>\n",
       "        \n",
       "    </tr>\n",
       "    <tr>\n",
       "        <th>Experimenter</th>\n",
       "        \n",
       "        <td>MEG</td>\n",
       "        \n",
       "    </tr>\n",
       "        <th>Participant</th>\n",
       "        \n",
       "        <td>Unknown</td>\n",
       "        \n",
       "    </tr>\n",
       "    <tr>\n",
       "        <th>Digitized points</th>\n",
       "        \n",
       "        <td>146 points</td>\n",
       "        \n",
       "    </tr>\n",
       "    <tr>\n",
       "        <th>Good channels</th>\n",
       "        <td>204 Gradiometers, 102 Magnetometers, 9 Stimulus, 60 EEG, 1 EOG</td>\n",
       "    </tr>\n",
       "    <tr>\n",
       "        <th>Bad channels</th>\n",
       "        <td>MEG 2443, EEG 053</td>\n",
       "    </tr>\n",
       "    <tr>\n",
       "        <th>EOG channels</th>\n",
       "        <td>EOG 061</td>\n",
       "    </tr>\n",
       "    <tr>\n",
       "        <th>ECG channels</th>\n",
       "        <td>Not available</td>\n",
       "    \n",
       "    <tr>\n",
       "        <th>Sampling frequency</th>\n",
       "        <td>600.61 Hz</td>\n",
       "    </tr>\n",
       "    \n",
       "    \n",
       "    <tr>\n",
       "        <th>Highpass</th>\n",
       "        <td>0.10 Hz</td>\n",
       "    </tr>\n",
       "    \n",
       "    \n",
       "    <tr>\n",
       "        <th>Lowpass</th>\n",
       "        <td>172.18 Hz</td>\n",
       "    </tr>\n",
       "    \n",
       "    \n",
       "    <tr>\n",
       "        <th>Projections</th>\n",
       "        <td>PCA-v1 : off<br/>PCA-v2 : off<br/>PCA-v3 : off</td>\n",
       "    </tr>\n",
       "    \n",
       "    \n",
       "    <tr>\n",
       "        <th>Filenames</th>\n",
       "        <td>sample_audvis_raw.fif</td>\n",
       "    </tr>\n",
       "    \n",
       "    <tr>\n",
       "        <th>Duration</th>\n",
       "        <td>00:04:38 (HH:MM:SS)</td>\n",
       "    </tr>\n",
       "</table>"
      ],
      "text/plain": [
       "<Raw | sample_audvis_raw.fif, 376 x 166800 (277.7 s), ~481.8 MB, data loaded>"
      ]
     },
     "execution_count": 51,
     "metadata": {},
     "output_type": "execute_result"
    }
   ],
   "source": [
    "raw_path = 'sample_audvis_raw.fif'\n",
    "raw = mne.io.read_raw_fif(raw_path, preload = True)\n",
    "raw"
   ]
  },
  {
   "cell_type": "markdown",
   "metadata": {
    "id": "qkLXO6IxQQOH"
   },
   "source": [
    "## Let's visualize the raw data!"
   ]
  },
  {
   "cell_type": "code",
   "execution_count": 5,
   "metadata": {
    "colab": {
     "base_uri": "https://localhost:8080/",
     "height": 0
    },
    "id": "JAOgdmZcQQOH",
    "outputId": "5e349950-9076-4d47-d381-4569a0da3ef9"
   },
   "outputs": [
    {
     "name": "stdout",
     "output_type": "stream",
     "text": [
      "Using matplotlib as 2D backend.\n",
      "Channels marked as bad:\n",
      "['MEG 2443', 'EEG 053']\n"
     ]
    }
   ],
   "source": [
    "raw.plot();"
   ]
  },
  {
   "cell_type": "markdown",
   "metadata": {
    "id": "tr6pwSB3QQOI"
   },
   "source": [
    "## Extract events from the `STIM` channels"
   ]
  },
  {
   "cell_type": "markdown",
   "metadata": {
    "id": "jlfBCN8epY7l"
   },
   "source": [
    "In this experiment, checkerboard patterns were presented to the subject into the left and right visual field, interspersed by tones to the left or right ear. The interval between the stimuli was 750 ms. Occasionally a smiley face was presented at the center of the visual field. The subject was asked to press a key with the right index finger as soon as possible after the appearance of the face."
   ]
  },
  {
   "cell_type": "markdown",
   "metadata": {
    "id": "BD7lckvoptOv"
   },
   "source": [
    "We can extract information about the events in this task from the raw data."
   ]
  },
  {
   "cell_type": "code",
   "execution_count": 6,
   "metadata": {
    "colab": {
     "base_uri": "https://localhost:8080/"
    },
    "id": "pN1QmDh7QQOI",
    "outputId": "a1da72ea-2c58-4c29-e950-247c3a5ec28d"
   },
   "outputs": [
    {
     "name": "stdout",
     "output_type": "stream",
     "text": [
      "320 events found\n",
      "Event IDs: [ 1  2  3  4  5 32]\n"
     ]
    }
   ],
   "source": [
    "events = mne.find_events(raw)"
   ]
  },
  {
   "cell_type": "markdown",
   "metadata": {
    "id": "y3GRTIDpp725"
   },
   "source": [
    "Six events have been identified, we can label them according to the task paradigm."
   ]
  },
  {
   "cell_type": "code",
   "execution_count": 7,
   "metadata": {
    "colab": {
     "base_uri": "https://localhost:8080/"
    },
    "id": "A1o4GBvqQQOI",
    "outputId": "63be0d57-0d08-4b3c-8cbc-66a7c2cffaae"
   },
   "outputs": [
    {
     "data": {
      "text/plain": [
       "{'Auditory/Left': 1,\n",
       " 'Auditory/Right': 2,\n",
       " 'Visual/Left': 3,\n",
       " 'Visual/Right': 4,\n",
       " 'Smiley': 5,\n",
       " 'Button': 32}"
      ]
     },
     "execution_count": 7,
     "metadata": {},
     "output_type": "execute_result"
    }
   ],
   "source": [
    "event_id = {\n",
    "    'Auditory/Left': 1,\n",
    "    'Auditory/Right': 2,\n",
    "    'Visual/Left': 3,\n",
    "    'Visual/Right': 4,\n",
    "    'Smiley': 5,\n",
    "    'Button': 32\n",
    "}\n",
    "event_id"
   ]
  },
  {
   "cell_type": "markdown",
   "metadata": {
    "id": "rEn0pB6CqNHJ"
   },
   "source": [
    "We can plot when these events take place in time in the task paradigm"
   ]
  },
  {
   "cell_type": "code",
   "execution_count": 8,
   "metadata": {
    "colab": {
     "base_uri": "https://localhost:8080/",
     "height": 0
    },
    "id": "IawhCbtQQQOK",
    "outputId": "c6a3c0ba-4dc7-4590-967b-f8adea3de2cf"
   },
   "outputs": [],
   "source": [
    "#rename events to plot\n",
    "from mne.viz import plot_events\n",
    "mne.viz.plot_events(events, event_id=event_id, sfreq=raw.info['sfreq']);"
   ]
  },
  {
   "cell_type": "markdown",
   "metadata": {
    "id": "Ejaeb9b0QQOK"
   },
   "source": [
    "## Plot the raw data again, but add event markers"
   ]
  },
  {
   "cell_type": "code",
   "execution_count": 9,
   "metadata": {
    "colab": {
     "base_uri": "https://localhost:8080/",
     "height": 0
    },
    "id": "pKdLgletQQOK",
    "outputId": "376054a5-2ab2-4a4b-9f24-7791c1e7661a"
   },
   "outputs": [
    {
     "name": "stdout",
     "output_type": "stream",
     "text": [
      "Channels marked as bad:\n",
      "['MEG 2443', 'EEG 053']\n"
     ]
    }
   ],
   "source": [
    "raw.plot(events=events, event_id=event_id);"
   ]
  },
  {
   "cell_type": "markdown",
   "metadata": {
    "id": "0s8bEHisQQOL"
   },
   "source": [
    "## Gather some info about the data"
   ]
  },
  {
   "cell_type": "code",
   "execution_count": 64,
   "metadata": {
    "colab": {
     "base_uri": "https://localhost:8080/",
     "height": 0
    },
    "id": "MS5vphl2QQOL",
    "outputId": "10d457d6-4ec7-4833-8b54-37e9134204cc"
   },
   "outputs": [
    {
     "data": {
      "text/html": [
       "<table class=\"table table-hover table-striped table-sm table-responsive small\">\n",
       "    <tr>\n",
       "        <th>Measurement date</th>\n",
       "        \n",
       "        <td>December 03, 2002  19:01:10 GMT</td>\n",
       "        \n",
       "    </tr>\n",
       "    <tr>\n",
       "        <th>Experimenter</th>\n",
       "        \n",
       "        <td>MEG</td>\n",
       "        \n",
       "    </tr>\n",
       "        <th>Participant</th>\n",
       "        \n",
       "        <td>Unknown</td>\n",
       "        \n",
       "    </tr>\n",
       "    <tr>\n",
       "        <th>Digitized points</th>\n",
       "        \n",
       "        <td>146 points</td>\n",
       "        \n",
       "    </tr>\n",
       "    <tr>\n",
       "        <th>Good channels</th>\n",
       "        <td>204 Gradiometers, 102 Magnetometers, 9 Stimulus, 60 EEG, 1 EOG</td>\n",
       "    </tr>\n",
       "    <tr>\n",
       "        <th>Bad channels</th>\n",
       "        <td>MEG 2443, EEG 053, EEG 051</td>\n",
       "    </tr>\n",
       "    <tr>\n",
       "        <th>EOG channels</th>\n",
       "        <td>EOG 061</td>\n",
       "    </tr>\n",
       "    <tr>\n",
       "        <th>ECG channels</th>\n",
       "        <td>Not available</td>\n",
       "    \n",
       "    <tr>\n",
       "        <th>Sampling frequency</th>\n",
       "        <td>600.61 Hz</td>\n",
       "    </tr>\n",
       "    \n",
       "    \n",
       "    <tr>\n",
       "        <th>Highpass</th>\n",
       "        <td>0.10 Hz</td>\n",
       "    </tr>\n",
       "    \n",
       "    \n",
       "    <tr>\n",
       "        <th>Lowpass</th>\n",
       "        <td>172.18 Hz</td>\n",
       "    </tr>\n",
       "    \n",
       "    \n",
       "    <tr>\n",
       "        <th>Projections</th>\n",
       "        <td>PCA-v1 : off<br/>PCA-v2 : off<br/>PCA-v3 : off</td>\n",
       "    </tr>\n",
       "    \n",
       "</table>"
      ],
      "text/plain": [
       "<Info | 21 non-empty values\n",
       " acq_pars: ACQch001 110113 ACQch002 110112 ACQch003 110111 ACQch004 110122 ...\n",
       " bads: 3 items (MEG 2443, EEG 053, EEG 051)\n",
       " ch_names: MEG 0113, MEG 0112, MEG 0111, MEG 0122, MEG 0123, MEG 0121, MEG ...\n",
       " chs: 204 Gradiometers, 102 Magnetometers, 9 Stimulus, 60 EEG, 1 EOG\n",
       " custom_ref_applied: False\n",
       " description: acquisition (megacq) VectorView system at NMR-MGH\n",
       " dev_head_t: MEG device -> head transform\n",
       " dig: 146 items (3 Cardinal, 4 HPI, 61 EEG, 78 Extra)\n",
       " events: 1 item (list)\n",
       " experimenter: MEG\n",
       " file_id: 4 items (dict)\n",
       " highpass: 0.1 Hz\n",
       " hpi_meas: 1 item (list)\n",
       " hpi_results: 1 item (list)\n",
       " lowpass: 172.2 Hz\n",
       " meas_date: 2002-12-03 19:01:10 UTC\n",
       " meas_id: 4 items (dict)\n",
       " nchan: 376\n",
       " proj_id: 1 item (ndarray)\n",
       " proj_name: test\n",
       " projs: PCA-v1: off, PCA-v2: off, PCA-v3: off\n",
       " sfreq: 600.6 Hz\n",
       ">"
      ]
     },
     "execution_count": 64,
     "metadata": {},
     "output_type": "execute_result"
    }
   ],
   "source": [
    "raw.info"
   ]
  },
  {
   "cell_type": "code",
   "execution_count": 17,
   "metadata": {},
   "outputs": [
    {
     "data": {
      "text/plain": [
       "dict_keys(['file_id', 'events', 'hpi_results', 'hpi_meas', 'subject_info', 'device_info', 'helium_info', 'hpi_subsystem', 'proc_history', 'meas_id', 'experimenter', 'description', 'proj_id', 'proj_name', 'meas_date', 'utc_offset', 'sfreq', 'highpass', 'lowpass', 'line_freq', 'gantry_angle', 'chs', 'dev_head_t', 'ctf_head_t', 'dev_ctf_t', 'dig', 'bads', 'ch_names', 'nchan', 'projs', 'comps', 'acq_pars', 'acq_stim', 'custom_ref_applied', 'xplotter_layout', 'kit_system_id'])"
      ]
     },
     "execution_count": 17,
     "metadata": {},
     "output_type": "execute_result"
    }
   ],
   "source": [
    "raw.info.keys()"
   ]
  },
  {
   "cell_type": "code",
   "execution_count": 12,
   "metadata": {
    "colab": {
     "base_uri": "https://localhost:8080/"
    },
    "id": "2EGnpS92QQOL",
    "outputId": "3bdb2ccc-4331-4329-871b-d9b733c5851e"
   },
   "outputs": [
    {
     "data": {
      "text/plain": [
       "datetime.datetime(2002, 12, 3, 19, 1, 10, 720100, tzinfo=datetime.timezone.utc)"
      ]
     },
     "execution_count": 12,
     "metadata": {},
     "output_type": "execute_result"
    }
   ],
   "source": [
    "raw.info['meas_date']"
   ]
  },
  {
   "cell_type": "code",
   "execution_count": 18,
   "metadata": {
    "colab": {
     "base_uri": "https://localhost:8080/"
    },
    "id": "v2kWEI2kQQOM",
    "outputId": "69b0a415-443b-4500-a4ea-ae7af3ae7b47"
   },
   "outputs": [
    {
     "data": {
      "text/plain": [
       "600.614990234375"
      ]
     },
     "execution_count": 18,
     "metadata": {},
     "output_type": "execute_result"
    }
   ],
   "source": [
    "raw.info['sfreq']"
   ]
  },
  {
   "cell_type": "code",
   "execution_count": 19,
   "metadata": {
    "colab": {
     "base_uri": "https://localhost:8080/"
    },
    "id": "0MWcO_zFQQOM",
    "outputId": "c90b84ae-51f0-4885-8934-2d28e7e19681"
   },
   "outputs": [
    {
     "data": {
      "text/plain": [
       "['MEG 2443', 'EEG 053']"
      ]
     },
     "execution_count": 19,
     "metadata": {},
     "output_type": "execute_result"
    }
   ],
   "source": [
    "#Identify bad channels labbeled during acquisition\n",
    "raw.info['bads']"
   ]
  },
  {
   "cell_type": "code",
   "execution_count": 20,
   "metadata": {
    "colab": {
     "base_uri": "https://localhost:8080/"
    },
    "id": "RlY5XwwiQQON",
    "outputId": "5f021c62-6fe8-4b95-82f4-4db0c92f099a"
   },
   "outputs": [
    {
     "data": {
      "text/plain": [
       "{'scanno': 1,\n",
       " 'logno': 113,\n",
       " 'kind': 1 (FIFFV_MEG_CH),\n",
       " 'range': 0.00030517578125,\n",
       " 'cal': 3.1600000394149674e-09,\n",
       " 'coil_type': 3012 (FIFFV_COIL_VV_PLANAR_T1),\n",
       " 'loc': array([-0.1066    ,  0.0464    , -0.0604    , -0.0127    ,  0.0057    ,\n",
       "        -0.99990302, -0.186801  , -0.98240298, -0.0033    , -0.98232698,\n",
       "         0.18674099,  0.013541  ]),\n",
       " 'unit': 201 (FIFF_UNIT_T_M),\n",
       " 'unit_mul': 0 (FIFF_UNITM_NONE),\n",
       " 'ch_name': 'MEG 0113',\n",
       " 'coord_frame': 1 (FIFFV_COORD_DEVICE)}"
      ]
     },
     "execution_count": 20,
     "metadata": {},
     "output_type": "execute_result"
    }
   ],
   "source": [
    "#We can also call specific channels and their properties\n",
    "raw.info['chs'][0]"
   ]
  },
  {
   "cell_type": "markdown",
   "metadata": {
    "id": "OnRoILo1QQOP"
   },
   "source": [
    "## Select only a subset of the channels"
   ]
  },
  {
   "cell_type": "code",
   "execution_count": 53,
   "metadata": {
    "colab": {
     "base_uri": "https://localhost:8080/"
    },
    "id": "gsknoRVOQQOP",
    "outputId": "df96d7de-123c-4874-ecdf-8985c47f8155"
   },
   "outputs": [
    {
     "name": "stdout",
     "output_type": "stream",
     "text": [
      "Removing projector <Projection | PCA-v1, active : False, n_channels : 102>\n",
      "Removing projector <Projection | PCA-v2, active : False, n_channels : 102>\n",
      "Removing projector <Projection | PCA-v3, active : False, n_channels : 102>\n"
     ]
    },
    {
     "data": {
      "text/plain": [
       "61"
      ]
     },
     "execution_count": 53,
     "metadata": {},
     "output_type": "execute_result"
    }
   ],
   "source": [
    "raw_eeg = raw.copy()\n",
    "raw_eeg.pick_types(meg=False, eeg=True, eog=True, exclude=[])\n",
    "len(raw_eeg.ch_names)"
   ]
  },
  {
   "cell_type": "code",
   "execution_count": 54,
   "metadata": {
    "colab": {
     "base_uri": "https://localhost:8080/",
     "height": 0
    },
    "id": "S0am5_ybQQOQ",
    "outputId": "7aae9fd4-beaf-4777-9b2e-1504f1e4405e"
   },
   "outputs": [
    {
     "name": "stdout",
     "output_type": "stream",
     "text": [
      "Channels marked as bad:\n",
      "['EEG 053']\n"
     ]
    }
   ],
   "source": [
    "raw_eeg.plot(events=events, event_id=event_id);"
   ]
  },
  {
   "cell_type": "markdown",
   "metadata": {
    "id": "cxd8ui32QQON"
   },
   "source": [
    "## Visualize the sensor locations"
   ]
  },
  {
   "cell_type": "code",
   "execution_count": 23,
   "metadata": {
    "colab": {
     "base_uri": "https://localhost:8080/",
     "height": 0
    },
    "id": "GNh48k6uQQON",
    "outputId": "f2adfe35-73b7-434a-c7df-80687b5908c7"
   },
   "outputs": [],
   "source": [
    "#In 2D\n",
    "raw.plot_sensors(ch_type='eeg');"
   ]
  },
  {
   "cell_type": "code",
   "execution_count": 27,
   "metadata": {
    "colab": {
     "base_uri": "https://localhost:8080/",
     "height": 0
    },
    "id": "sC99IefHQQOO",
    "outputId": "2e0ad23f-d031-494a-8160-52a6e9468545"
   },
   "outputs": [],
   "source": [
    "#In 3D\n",
    "raw.plot_sensors(kind='3d', ch_type='eeg');"
   ]
  },
  {
   "cell_type": "markdown",
   "metadata": {
    "id": "bBitWbJpQQOO"
   },
   "source": [
    "## Mark channels as bad"
   ]
  },
  {
   "cell_type": "markdown",
   "metadata": {
    "id": "WIlV_ez-QQOO"
   },
   "source": [
    "Mark an additional EEG channel as bad and view the topoplot."
   ]
  },
  {
   "cell_type": "code",
   "execution_count": 55,
   "metadata": {
    "colab": {
     "base_uri": "https://localhost:8080/"
    },
    "id": "kfn2kSxuQQOO",
    "outputId": "5f3a4192-8d89-4ef3-9574-d019a6d3d941"
   },
   "outputs": [
    {
     "data": {
      "text/plain": [
       "['MEG 2443', 'EEG 053']"
      ]
     },
     "execution_count": 55,
     "metadata": {},
     "output_type": "execute_result"
    }
   ],
   "source": [
    "raw.info['bads']"
   ]
  },
  {
   "cell_type": "code",
   "execution_count": 56,
   "metadata": {
    "colab": {
     "base_uri": "https://localhost:8080/",
     "height": 0
    },
    "id": "Be58GCXAQQOP",
    "outputId": "2053f937-b120-4086-c5f3-9791135517fa"
   },
   "outputs": [],
   "source": [
    "raw.info['bads'] += ['EEG 051']\n",
    "raw.plot_sensors(ch_type='eeg');\n",
    "raw.plot_sensors(kind = '3d',ch_type='eeg');"
   ]
  },
  {
   "cell_type": "markdown",
   "metadata": {
    "id": "AAvcIyO6QQN-"
   },
   "source": [
    "# Cropping and filtering the data"
   ]
  },
  {
   "cell_type": "markdown",
   "metadata": {
    "id": "SUzHP7WAn1bk"
   },
   "source": [
    "## Cropping"
   ]
  },
  {
   "cell_type": "markdown",
   "metadata": {
    "id": "Oiyl_ryJjeGV"
   },
   "source": [
    "This EEG datset contains around 278 seconds of data. We can use only the first 100 seconds for analysis by cropping the data."
   ]
  },
  {
   "cell_type": "code",
   "execution_count": 70,
   "metadata": {
    "colab": {
     "base_uri": "https://localhost:8080/"
    },
    "id": "Zrlp0S6LiI4h",
    "outputId": "bce63b84-22b1-4bb1-c73f-815808e03665"
   },
   "outputs": [
    {
     "data": {
      "text/plain": [
       "277.7136813300495"
      ]
     },
     "execution_count": 70,
     "metadata": {},
     "output_type": "execute_result"
    }
   ],
   "source": [
    "raw.times[-1]"
   ]
  },
  {
   "cell_type": "markdown",
   "metadata": {
    "id": "H9bs0uA-jsWj"
   },
   "source": [
    "It's best to make a copy of the loaded data first before cropping."
   ]
  },
  {
   "cell_type": "code",
   "execution_count": 71,
   "metadata": {
    "colab": {
     "base_uri": "https://localhost:8080/"
    },
    "id": "5JZzhuJLQQOQ",
    "outputId": "5bcac4bd-5656-4f95-fcba-dc5b2be2365f"
   },
   "outputs": [
    {
     "data": {
      "text/plain": [
       "99.99916914588277"
      ]
     },
     "execution_count": 71,
     "metadata": {},
     "output_type": "execute_result"
    }
   ],
   "source": [
    "raw_cropped = raw.copy()\n",
    "raw_cropped = raw_cropped.crop(tmax=100)\n",
    "raw_cropped.times[-1]"
   ]
  },
  {
   "cell_type": "markdown",
   "metadata": {
    "id": "VI_-fjPrn5X9"
   },
   "source": [
    "## Filtering"
   ]
  },
  {
   "cell_type": "markdown",
   "metadata": {
    "id": "2rT6vDqRj_mX"
   },
   "source": [
    "We can also filter to get a specific frequency range"
   ]
  },
  {
   "cell_type": "markdown",
   "metadata": {
    "id": "xjmgyA4jkoSE"
   },
   "source": [
    "When we plot the power spectrum we can see frequencies ranging upto 300 Hz. "
   ]
  },
  {
   "cell_type": "code",
   "execution_count": 72,
   "metadata": {
    "colab": {
     "base_uri": "https://localhost:8080/",
     "height": 0
    },
    "id": "VSPW4IV1kH45",
    "outputId": "5df4b3b4-2901-491f-d95c-76048cc1b171"
   },
   "outputs": [
    {
     "name": "stdout",
     "output_type": "stream",
     "text": [
      "NOTE: plot_psd() is a legacy function. New code should use .compute_psd().plot().\n",
      "Effective window size : 0.426 (s)\n"
     ]
    },
    {
     "data": {
      "image/png": "[encoded data removed]",
      "text/plain": [
       "<MNELineFigure size 720x252 with 2 Axes>"
      ]
     },
     "execution_count": 72,
     "metadata": {},
     "output_type": "execute_result"
    }
   ],
   "source": [
    "raw_cropped.plot_psd(picks=['eeg'])"
   ]
  },
  {
   "cell_type": "markdown",
   "metadata": {
    "id": "E9fZiV8Ulg6F"
   },
   "source": [
    "Let's say we only want to look at signals between 0.1 and 40 Hz to focus only on some of the brain-related activity."
   ]
  },
  {
   "cell_type": "markdown",
   "metadata": {
    "id": "R3EM25QyldJY"
   },
   "source": [
    "![image.png](data:image/png;base64,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)"
   ]
  },
  {
   "cell_type": "code",
   "execution_count": 73,
   "metadata": {
    "colab": {
     "base_uri": "https://localhost:8080/"
    },
    "id": "IcuTdfnwQQOQ",
    "outputId": "fb28a8eb-e2bb-47ba-9ab1-f2ee5a1be5dc"
   },
   "outputs": [
    {
     "name": "stdout",
     "output_type": "stream",
     "text": [
      "Filtering raw data in 1 contiguous segment\n",
      "Setting up band-pass filter from 1 - 40 Hz\n",
      "\n",
      "FIR filter parameters\n",
      "---------------------\n",
      "Designing a one-pass, zero-phase, non-causal bandpass filter:\n",
      "- Windowed time-domain design (firwin) method\n",
      "- Hamming window with 0.0194 passband ripple and 53 dB stopband attenuation\n",
      "- Lower passband edge: 1.00\n",
      "- Lower transition bandwidth: 1.00 Hz (-6 dB cutoff frequency: 0.50 Hz)\n",
      "- Upper passband edge: 40.00 Hz\n",
      "- Upper transition bandwidth: 10.00 Hz (-6 dB cutoff frequency: 45.00 Hz)\n",
      "- Filter length: 1983 samples (3.302 sec)\n",
      "\n"
     ]
    },
    {
     "name": "stderr",
     "output_type": "stream",
     "text": [
      "[Parallel(n_jobs=1)]: Using backend SequentialBackend with 1 concurrent workers.\n",
      "[Parallel(n_jobs=1)]: Done   1 out of   1 | elapsed:    0.0s remaining:    0.0s\n",
      "[Parallel(n_jobs=1)]: Done   2 out of   2 | elapsed:    0.0s remaining:    0.0s\n",
      "[Parallel(n_jobs=1)]: Done   3 out of   3 | elapsed:    0.0s remaining:    0.0s\n",
      "[Parallel(n_jobs=1)]: Done   4 out of   4 | elapsed:    0.0s remaining:    0.0s\n",
      "[Parallel(n_jobs=1)]: Done 366 out of 366 | elapsed:    1.4s finished\n"
     ]
    }
   ],
   "source": [
    "#Crop using a band pass filter from 1-40 Hz\n",
    "raw_cropped_filtered = raw_cropped.copy()\n",
    "raw_cropped_filtered = raw_cropped_filtered.filter(l_freq=1, h_freq=40)"
   ]
  },
  {
   "cell_type": "markdown",
   "metadata": {
    "id": "DE_HithAn_T1"
   },
   "source": [
    "### Compare before and after"
   ]
  },
  {
   "cell_type": "code",
   "execution_count": 74,
   "metadata": {
    "colab": {
     "base_uri": "https://localhost:8080/",
     "height": 0
    },
    "id": "KeBmQbYamwMO",
    "outputId": "2e71e11e-4b55-4535-aad6-8c961a92aa85"
   },
   "outputs": [
    {
     "name": "stdout",
     "output_type": "stream",
     "text": [
      "NOTE: plot_psd() is a legacy function. New code should use .compute_psd().plot().\n",
      "Effective window size : 0.426 (s)\n",
      "NOTE: plot_psd() is a legacy function. New code should use .compute_psd().plot().\n",
      "Effective window size : 0.426 (s)\n"
     ]
    },
    {
     "name": "stderr",
     "output_type": "stream",
     "text": [
      "/anaconda3/lib/python3.7/site-packages/ipykernel/eventloops.py:106: UserWarning: This figure includes Axes that are not compatible with tight_layout, so results might be incorrect.\n",
      "  app.exec_()\n"
     ]
    }
   ],
   "source": [
    "fig, ax = plt.subplots(2, figsize=(10,5))\n",
    "raw_cropped.plot_psd(ax=ax[0],picks=['eeg'], show = False)\n",
    "raw_cropped_filtered.plot_psd(ax=ax[1],picks=['eeg'], show = False)\n",
    "\n",
    "ax[0].set_title('PSD before filtering')\n",
    "ax[1].set_title('PSD after filtering')\n",
    "ax[1].set_xlabel('Frequency (Hz)')\n",
    "fig.set_tight_layout(True)\n",
    "plt.show()"
   ]
  },
  {
   "cell_type": "markdown",
   "metadata": {
    "id": "YXWxJkJ8nw_9"
   },
   "source": [
    "### Zoom in"
   ]
  },
  {
   "cell_type": "code",
   "execution_count": 75,
   "metadata": {
    "colab": {
     "base_uri": "https://localhost:8080/",
     "height": 0
    },
    "id": "hfqf4exCnlkY",
    "outputId": "b0b437bf-0885-4977-bc63-8722fc0e07d4"
   },
   "outputs": [
    {
     "name": "stdout",
     "output_type": "stream",
     "text": [
      "NOTE: plot_psd() is a legacy function. New code should use .compute_psd().plot().\n",
      "Effective window size : 0.426 (s)\n"
     ]
    },
    {
     "data": {
      "image/png": "[encoded data removed]",
      "text/plain": [
       "<MNELineFigure size 720x252 with 2 Axes>"
      ]
     },
     "execution_count": 75,
     "metadata": {},
     "output_type": "execute_result"
    }
   ],
   "source": [
    "raw_cropped_filtered.plot_psd(picks=['eeg'], fmax=50)"
   ]
  },
  {
   "cell_type": "markdown",
   "metadata": {
    "id": "07a-4d_KQQOT"
   },
   "source": [
    "# Saving the data in BIDS format"
   ]
  },
  {
   "cell_type": "markdown",
   "metadata": {
    "id": "-qJrCOMmr2W2"
   },
   "source": [
    "\n",
    "Neuroimaging experiments result in complicated data that can be arranged in many different ways. So far there is no consensus how to organize and share data obtained in neuroimaging experiments. Even two researchers working in the same lab can opt to arrange their data in a different way. Lack of consensus (or a standard) leads to misunderstandings and time wasted on rearranging data or rewriting scripts expecting certain structure."
   ]
  },
  {
   "cell_type": "markdown",
   "metadata": {
    "id": "IfurfGzmsq_k"
   },
   "source": [
    "BIDS, the Brain Imaging Data Structure, is a standard that describes how to organize neuroimaging and electrophysiological data. In particular, it defines:\n",
    "\n",
    "\n",
    "\n",
    "*   which file formats to use\n",
    "*   how to name your files\n",
    "* where to place your files within a directory structure\n",
    "* what additional metadata to store\n",
    "\n",
    "The complete set of rules is written down in the [BIDS specification](https://bids-specification.readthedocs.io/en/stable/).\n",
    "\n",
    "Here we use an extension to BIDS for electroencephalography (EEG) data, **EEG-BIDS**.\n",
    "\n",
    "**[MNE-BIDS](https://mne.tools/mne-bids/stable/index.html)** is a Python package that allows you to read and write BIDS-compatible datasets with the help of MNE-Python."
   ]
  },
  {
   "cell_type": "markdown",
   "metadata": {
    "id": "9wCrMBQ-TGBJ"
   },
   "source": [
    "## Write the raw data to BIDS!\n",
    "\n",
    "We need to specify the power line frequency."
   ]
  },
  {
   "cell_type": "code",
   "execution_count": 76,
   "metadata": {
    "colab": {
     "base_uri": "https://localhost:8080/",
     "height": 300
    },
    "id": "aQItNcNitSOz",
    "outputId": "7552efcc-06a7-4ef2-a7c5-21c64743b600"
   },
   "outputs": [
    {
     "data": {
      "text/html": [
       "<table class=\"table table-hover table-striped table-sm table-responsive small\">\n",
       "    <tr>\n",
       "        <th>Measurement date</th>\n",
       "        \n",
       "        <td>December 03, 2002  19:01:10 GMT</td>\n",
       "        \n",
       "    </tr>\n",
       "    <tr>\n",
       "        <th>Experimenter</th>\n",
       "        \n",
       "        <td>MEG</td>\n",
       "        \n",
       "    </tr>\n",
       "        <th>Participant</th>\n",
       "        \n",
       "        <td>Unknown</td>\n",
       "        \n",
       "    </tr>\n",
       "    <tr>\n",
       "        <th>Digitized points</th>\n",
       "        \n",
       "        <td>146 points</td>\n",
       "        \n",
       "    </tr>\n",
       "    <tr>\n",
       "        <th>Good channels</th>\n",
       "        <td>204 Gradiometers, 102 Magnetometers, 9 Stimulus, 60 EEG, 1 EOG</td>\n",
       "    </tr>\n",
       "    <tr>\n",
       "        <th>Bad channels</th>\n",
       "        <td>MEG 2443, EEG 053, EEG 051</td>\n",
       "    </tr>\n",
       "    <tr>\n",
       "        <th>EOG channels</th>\n",
       "        <td>EOG 061</td>\n",
       "    </tr>\n",
       "    <tr>\n",
       "        <th>ECG channels</th>\n",
       "        <td>Not available</td>\n",
       "    \n",
       "    <tr>\n",
       "        <th>Sampling frequency</th>\n",
       "        <td>600.61 Hz</td>\n",
       "    </tr>\n",
       "    \n",
       "    \n",
       "    <tr>\n",
       "        <th>Highpass</th>\n",
       "        <td>0.10 Hz</td>\n",
       "    </tr>\n",
       "    \n",
       "    \n",
       "    <tr>\n",
       "        <th>Lowpass</th>\n",
       "        <td>172.18 Hz</td>\n",
       "    </tr>\n",
       "    \n",
       "    \n",
       "    <tr>\n",
       "        <th>Projections</th>\n",
       "        <td>PCA-v1 : off<br/>PCA-v2 : off<br/>PCA-v3 : off</td>\n",
       "    </tr>\n",
       "    \n",
       "</table>"
      ],
      "text/plain": [
       "<Info | 21 non-empty values\n",
       " acq_pars: ACQch001 110113 ACQch002 110112 ACQch003 110111 ACQch004 110122 ...\n",
       " bads: 3 items (MEG 2443, EEG 053, EEG 051)\n",
       " ch_names: MEG 0113, MEG 0112, MEG 0111, MEG 0122, MEG 0123, MEG 0121, MEG ...\n",
       " chs: 204 Gradiometers, 102 Magnetometers, 9 Stimulus, 60 EEG, 1 EOG\n",
       " custom_ref_applied: False\n",
       " description: acquisition (megacq) VectorView system at NMR-MGH\n",
       " dev_head_t: MEG device -> head transform\n",
       " dig: 146 items (3 Cardinal, 4 HPI, 61 EEG, 78 Extra)\n",
       " events: 1 item (list)\n",
       " experimenter: MEG\n",
       " file_id: 4 items (dict)\n",
       " highpass: 0.1 Hz\n",
       " hpi_meas: 1 item (list)\n",
       " hpi_results: 1 item (list)\n",
       " lowpass: 172.2 Hz\n",
       " meas_date: 2002-12-03 19:01:10 UTC\n",
       " meas_id: 4 items (dict)\n",
       " nchan: 376\n",
       " proj_id: 1 item (ndarray)\n",
       " proj_name: test\n",
       " projs: PCA-v1: off, PCA-v2: off, PCA-v3: off\n",
       " sfreq: 600.6 Hz\n",
       ">"
      ]
     },
     "execution_count": 76,
     "metadata": {},
     "output_type": "execute_result"
    }
   ],
   "source": [
    "raw.info"
   ]
  },
  {
   "cell_type": "code",
   "execution_count": 77,
   "metadata": {
    "colab": {
     "base_uri": "https://localhost:8080/"
    },
    "id": "fXnRfRXCTQTB",
    "outputId": "5fd34aa1-f762-4296-edb1-d076bcf30a00"
   },
   "outputs": [
    {
     "name": "stdout",
     "output_type": "stream",
     "text": [
      "Writing 'out_data/sample_BIDS/README'...\n",
      "Writing 'out_data/sample_BIDS/participants.tsv'...\n",
      "Writing 'out_data/sample_BIDS/participants.json'...\n",
      "Writing 'out_data/sample_BIDS/sub-01/ses-01/meg/sub-01_ses-01_coordsystem.json'...\n"
     ]
    },
    {
     "name": "stderr",
     "output_type": "stream",
     "text": [
      "<ipython-input-77-3b8bb085620a>:16: FutureWarning: The events_data parameter has been deprecated in favor the new events parameter, to ensure better consistency  with MNE-Python. The events_data parameter will be removed in MNE-BIDS 0.14. Please use the events parameter instead.\n",
      "  event_id=event_id, overwrite=True,format= 'FIF',allow_preload=True )\n"
     ]
    },
    {
     "name": "stdout",
     "output_type": "stream",
     "text": [
      "Writing 'out_data/sample_BIDS/sub-01/ses-01/meg/sub-01_ses-01_coordsystem.json'...\n",
      "Used Annotations descriptions: ['Auditory/Left', 'Auditory/Right', 'Button', 'Smiley', 'Visual/Left', 'Visual/Right']\n",
      "Writing 'out_data/sample_BIDS/sub-01/ses-01/meg/sub-01_ses-01_task-audiovisual_run-01_events.tsv'...\n",
      "Writing 'out_data/sample_BIDS/dataset_description.json'...\n",
      "Writing 'out_data/sample_BIDS/sub-01/ses-01/meg/sub-01_ses-01_task-audiovisual_run-01_meg.json'...\n",
      "Writing 'out_data/sample_BIDS/sub-01/ses-01/meg/sub-01_ses-01_task-audiovisual_run-01_channels.tsv'...\n",
      "Copying data files to sub-01_ses-01_task-audiovisual_run-01_meg.fif\n",
      "Reserving possible split file sub-01_ses-01_task-audiovisual_run-01_split-01_meg.fif\n",
      "Writing /Users/minarose/Desktop/mne_eeg_workshop/out_data/sample_BIDS/sub-01/ses-01/meg/sub-01_ses-01_task-audiovisual_run-01_meg.fif\n"
     ]
    },
    {
     "name": "stderr",
     "output_type": "stream",
     "text": [
      "<ipython-input-77-3b8bb085620a>:16: RuntimeWarning: Omitted 173 annotation(s) that were outside data range.\n",
      "  event_id=event_id, overwrite=True,format= 'FIF',allow_preload=True )\n"
     ]
    },
    {
     "name": "stdout",
     "output_type": "stream",
     "text": [
      "Closing /Users/minarose/Desktop/mne_eeg_workshop/out_data/sample_BIDS/sub-01/ses-01/meg/sub-01_ses-01_task-audiovisual_run-01_meg.fif\n",
      "[done]\n",
      "Writing 'out_data/sample_BIDS/sub-01/ses-01/sub-01_ses-01_scans.tsv'...\n",
      "Wrote out_data/sample_BIDS/sub-01/ses-01/sub-01_ses-01_scans.tsv entry with meg/sub-01_ses-01_task-audiovisual_run-01_meg.fif.\n"
     ]
    },
    {
     "data": {
      "text/plain": [
       "BIDSPath(\n",
       "root: out_data/sample_BIDS\n",
       "datatype: meg\n",
       "basename: sub-01_ses-01_task-audiovisual_run-01_meg.fif)"
      ]
     },
     "execution_count": 77,
     "metadata": {},
     "output_type": "execute_result"
    }
   ],
   "source": [
    "#First, we need to specify the power line frequency as that is not included in the raw info\n",
    "\n",
    "raw_cropped_filtered.info['line_freq'] = 60\n",
    "\n",
    "#Set the path to where it will be saved\n",
    "out_path = pathlib.Path('out_data/sample_BIDS')\n",
    "\n",
    "#Set path with data specific variables for naming directory files\n",
    "bids_path = mne_bids.BIDSPath(subject='01',\n",
    "                              session='01',\n",
    "                              task='audiovisual',\n",
    "                              run='01',\n",
    "                              root=out_path)\n",
    "#Write raw to BIDS!\n",
    "mne_bids.write_raw_bids(raw_cropped_filtered, bids_path=bids_path, events_data=events,\n",
    "                        event_id=event_id, overwrite=True,format= 'FIF',allow_preload=True )"
   ]
  },
  {
   "cell_type": "markdown",
   "metadata": {
    "id": "cBHMeMF-T-zV"
   },
   "source": [
    "### Print the created file & directory structure"
   ]
  },
  {
   "cell_type": "code",
   "execution_count": 78,
   "metadata": {
    "colab": {
     "base_uri": "https://localhost:8080/"
    },
    "id": "Vf3o_EnPTf2e",
    "outputId": "09820510-3817-4481-ea61-f3b00383524f"
   },
   "outputs": [
    {
     "name": "stdout",
     "output_type": "stream",
     "text": [
      "|sample_BIDS/\n",
      "|--- README\n",
      "|--- dataset_description.json\n",
      "|--- participants.json\n",
      "|--- participants.tsv\n",
      "|--- sub-01/\n",
      "|------ ses-01/\n",
      "|--------- sub-01_ses-01_scans.tsv\n",
      "|--------- meg/\n",
      "|------------ sub-01_ses-01_coordsystem.json\n",
      "|------------ sub-01_ses-01_task-audiovisual_run-01_channels.tsv\n",
      "|------------ sub-01_ses-01_task-audiovisual_run-01_events.tsv\n",
      "|------------ sub-01_ses-01_task-audiovisual_run-01_meg.fif\n",
      "|------------ sub-01_ses-01_task-audiovisual_run-01_meg.json\n"
     ]
    }
   ],
   "source": [
    "mne_bids.print_dir_tree(out_path)"
   ]
  },
  {
   "cell_type": "markdown",
   "metadata": {
    "id": "rn9dlyeYUDxK"
   },
   "source": [
    "### Generate a data summary"
   ]
  },
  {
   "cell_type": "code",
   "execution_count": 79,
   "metadata": {
    "colab": {
     "base_uri": "https://localhost:8080/"
    },
    "id": "gP7ezpfoT9Iv",
    "outputId": "58df8c72-0a4c-4c64-95b1-b67c16ffb865"
   },
   "outputs": [
    {
     "name": "stdout",
     "output_type": "stream",
     "text": [
      "Summarizing participants.tsv out_data/sample_BIDS/participants.tsv...\n",
      "Summarizing scans.tsv files [PosixPath('out_data/sample_BIDS/sub-01/ses-01/sub-01_ses-01_scans.tsv')]...\n",
      "The participant template found: sex were all unknown;\n",
      "handedness were all unknown;\n",
      "ages all unknown\n",
      "This dataset was created by [Unspecified] and conforms to BIDS version 1.7.0.\n",
      "This report was generated with MNE-BIDS (https://doi.org/10.21105/joss.01896).\n",
      "The dataset consists of 1 participants (sex were all unknown; handedness were\n",
      "all unknown; ages all unknown) and 1 recording sessions: 01. Data was recorded\n",
      "using an MEG system (Elekta) sampled at 600.61 Hz with line noise at 60.0 Hz.\n",
      "The following software filters were applied during recording:\n",
      "SpatialCompensation. There was 1 scan in total. Recording durations ranged from\n",
      "100.0 to 100.0 seconds (mean = 100.0, std = 0.0), for a total of 100.0 seconds\n",
      "of data recorded over all scans. For each dataset, there were on average 376.0\n",
      "(std = 0.0) recording channels per scan, out of which 373.0 (std = 0.0) were\n",
      "used in analysis (3.0 +/- 0.0 were removed from analysis).\n"
     ]
    }
   ],
   "source": [
    "print(mne_bids.make_report(out_path))"
   ]
  },
  {
   "cell_type": "markdown",
   "metadata": {
    "id": "225YOSlvUPYq"
   },
   "source": [
    "## Reading BIDS data"
   ]
  },
  {
   "cell_type": "code",
   "execution_count": 80,
   "metadata": {
    "colab": {
     "base_uri": "https://localhost:8080/",
     "height": 1000
    },
    "id": "X4qiEKI0URP4",
    "outputId": "96a43043-68fa-4872-a03b-6f2153a1a335"
   },
   "outputs": [
    {
     "name": "stdout",
     "output_type": "stream",
     "text": [
      "Opening raw data file out_data/sample_BIDS/sub-01/ses-01/meg/sub-01_ses-01_task-audiovisual_run-01_meg.fif...\n",
      "    Read a total of 3 projection items:\n",
      "        PCA-v1 (1 x 102)  idle\n",
      "        PCA-v2 (1 x 102)  idle\n",
      "        PCA-v3 (1 x 102)  idle\n",
      "    Range : 25800 ... 85861 =     42.956 ...   142.955 secs\n",
      "Ready.\n",
      "Reading events from out_data/sample_BIDS/sub-01/ses-01/meg/sub-01_ses-01_task-audiovisual_run-01_events.tsv.\n",
      "Reading channel info from out_data/sample_BIDS/sub-01/ses-01/meg/sub-01_ses-01_task-audiovisual_run-01_channels.tsv.\n"
     ]
    },
    {
     "name": "stderr",
     "output_type": "stream",
     "text": [
      "<ipython-input-80-335d28d93c91>:10: RuntimeWarning: The unit for channel(s) STI 001, STI 002, STI 003, STI 004, STI 005, STI 006, STI 014, STI 015, STI 016 has changed from V to NA.\n",
      "  raw_BIDS = mne_bids.read_raw_bids(bids_path)\n"
     ]
    },
    {
     "name": "stdout",
     "output_type": "stream",
     "text": [
      "Channels marked as bad:\n",
      "['MEG 2443', 'EEG 051', 'EEG 053']\n"
     ]
    }
   ],
   "source": [
    "bids_root = pathlib.Path('out_data/sample_BIDS')\n",
    "\n",
    "bids_path = mne_bids.BIDSPath(subject='01',\n",
    "                              session='01',\n",
    "                              task='audiovisual',\n",
    "                              run='01',\n",
    "                              datatype='meg',\n",
    "                              root=bids_root)\n",
    "\n",
    "raw_BIDS = mne_bids.read_raw_bids(bids_path)\n",
    "raw_BIDS.plot();"
   ]
  },
  {
   "cell_type": "markdown",
   "metadata": {
    "id": "QiNynbDDsxEf"
   },
   "source": [
    "# Refrences"
   ]
  },
  {
   "cell_type": "markdown",
   "metadata": {
    "id": "nuJFD8I2szLa"
   },
   "source": [
    "**MNE-Python** - \n",
    "Alexandre Gramfort, Martin Luessi, Eric Larson, Denis A. Engemann, Daniel Strohmeier, Christian Brodbeck, Roman Goj, Mainak Jas, Teon Brooks, Lauri Parkkonen, and Matti S. Hämäläinen. MEG and EEG data analysis with MNE-Python. Frontiers in Neuroscience, 7(267):1–13, 2013. doi:10.3389/fnins.2013.00267.\n",
    "\n",
    "**BIDS**\n",
    "Gorgolewski, K.J., Auer, T., Calhoun, V.D., Craddock, R.C., Das, S., Duff, E.P., Flandin, G., Ghosh, S.S., Glatard, T., Halchenko, Y.O., Handwerker, D.A., Hanke, M., Keator, D., Li, X., Michael, Z., Maumet, C., Nichols, B.N., Nichols, T.E., Pellman, J., Poline, J.-B., Rokem, A., Schaefer, G., Sochat, V., Triplett, W., Turner, J.A., Varoquaux, G., Poldrack, R.A. (2016). The brain imaging data structure, a format for organizing and describing outputs of neuroimaging experiments. Scientific Data, 3 (160044). doi:10.1038/sdata.2016.44\n",
    "\n",
    "**MNE-BIDS** - \n",
    "Appelhoff, S., Sanderson, M., Brooks, T., Vliet, M., Quentin, R., Holdgraf, C., Chaumon, M., Mikulan, E., Tavabi, K., Höchenberger, R., Welke, D., Brunner, C., Rockhill, A., Larson, E., Gramfort, A., & Jas, M. (2019). MNE-BIDS: Organizing electrophysiological data into the BIDS format and facilitating their analysis. *Journal of Open Source Software*, 4:1896. DOI: 10.21105/joss.01896\n",
    "\n",
    "**EEG-BIDS** - Pernet, C. R., Appelhoff, S., Gorgolewski, K.J., Flandin, G., Phillips, C., Delorme, A., Oostenveld, R. (2019). EEG-BIDS, an extension to the brain imaging data structure for electroencephalography. Scientific data, 6 (103). doi:10.1038/s41597-019-0104-8\n",
    "\n",
    "**MNE EEG-BIDS**\n",
    "Niso, G., Gorgolewski, K., Bock, E. et al. MEG-BIDS, the brain imaging data structure extended to magnetoencephalography. *Sci Data* 5, 180110 (2018). https://doi.org/10.1038/sdata.2018.110\n",
    "\n"
   ]
  }
 ],
 "metadata": {
  "colab": {
   "provenance": []
  },
  "kernelspec": {
   "display_name": "Python 3",
   "language": "python",
   "name": "python3"
  },
  "language_info": {
   "codemirror_mode": {
    "name": "ipython",
    "version": 3
   },
   "file_extension": ".py",
   "mimetype": "text/x-python",
   "name": "python",
   "nbconvert_exporter": "python",
   "pygments_lexer": "ipython3",
   "version": "3.7.1"
  }
 },
 "nbformat": 4,
 "nbformat_minor": 1
}
